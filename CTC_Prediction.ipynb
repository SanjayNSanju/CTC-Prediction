{
  "cells": [
    {
      "cell_type": "markdown",
      "metadata": {
        "id": "view-in-github",
        "colab_type": "text"
      },
      "source": [
        "<a href=\"https://colab.research.google.com/github/SanjayNSanju/CTC-Prediction/blob/main/CTC_Prediction.ipynb\" target=\"_parent\"><img src=\"https://colab.research.google.com/assets/colab-badge.svg\" alt=\"Open In Colab\"/></a>"
      ]
    },
    {
      "cell_type": "markdown",
      "id": "48313dfd",
      "metadata": {
        "id": "48313dfd"
      },
      "source": [
        "#  Importing Libraries"
      ]
    },
    {
      "cell_type": "code",
      "execution_count": null,
      "id": "85ebc22b",
      "metadata": {
        "id": "85ebc22b"
      },
      "outputs": [],
      "source": [
        "import numpy as np\n",
        "import pandas as pd\n",
        "import xgboost as xgb\n",
        "from sklearn import metrics\n",
        "from sklearn.preprocessing import LabelEncoder"
      ]
    },
    {
      "cell_type": "markdown",
      "id": "371285fa",
      "metadata": {
        "id": "371285fa"
      },
      "source": [
        "# Loading Datasets."
      ]
    },
    {
      "cell_type": "code",
      "execution_count": null,
      "id": "98295d92",
      "metadata": {
        "id": "98295d92"
      },
      "outputs": [],
      "source": [
        "data = pd.read_csv(\"Data.csv\")\n",
        "\n",
        "test = pd.read_csv(\"Test.csv\")"
      ]
    },
    {
      "cell_type": "markdown",
      "id": "28eb77bc",
      "metadata": {
        "id": "28eb77bc"
      },
      "source": [
        "# Processing Datasets."
      ]
    },
    {
      "cell_type": "code",
      "execution_count": null,
      "id": "56669bd5",
      "metadata": {
        "id": "56669bd5",
        "outputId": "fdb2d00d-74a3-44c6-f14b-bca6d2f233d3"
      },
      "outputs": [
        {
          "data": {
            "text/html": [
              "<div>\n",
              "<style scoped>\n",
              "    .dataframe tbody tr th:only-of-type {\n",
              "        vertical-align: middle;\n",
              "    }\n",
              "\n",
              "    .dataframe tbody tr th {\n",
              "        vertical-align: top;\n",
              "    }\n",
              "\n",
              "    .dataframe thead th {\n",
              "        text-align: right;\n",
              "    }\n",
              "</style>\n",
              "<table border=\"1\" class=\"dataframe\">\n",
              "  <thead>\n",
              "    <tr style=\"text-align: right;\">\n",
              "      <th></th>\n",
              "      <th>S.No.</th>\n",
              "      <th>College</th>\n",
              "      <th>Role</th>\n",
              "      <th>City type</th>\n",
              "      <th>Previous CTC</th>\n",
              "      <th>Previous job changes</th>\n",
              "      <th>Graduation marks</th>\n",
              "      <th>Exp</th>\n",
              "      <th>CTC</th>\n",
              "    </tr>\n",
              "  </thead>\n",
              "  <tbody>\n",
              "    <tr>\n",
              "      <th>0</th>\n",
              "      <td>1</td>\n",
              "      <td>Tier 1</td>\n",
              "      <td>Manager</td>\n",
              "      <td>Non-Metro</td>\n",
              "      <td>55,523.00</td>\n",
              "      <td>3</td>\n",
              "      <td>66</td>\n",
              "      <td>19</td>\n",
              "      <td>71,406.58</td>\n",
              "    </tr>\n",
              "    <tr>\n",
              "      <th>1</th>\n",
              "      <td>2</td>\n",
              "      <td>Tier 2</td>\n",
              "      <td>Executive</td>\n",
              "      <td>Metro</td>\n",
              "      <td>57,081.00</td>\n",
              "      <td>1</td>\n",
              "      <td>84</td>\n",
              "      <td>18</td>\n",
              "      <td>68,005.87</td>\n",
              "    </tr>\n",
              "    <tr>\n",
              "      <th>2</th>\n",
              "      <td>3</td>\n",
              "      <td>Tier 2</td>\n",
              "      <td>Executive</td>\n",
              "      <td>Metro</td>\n",
              "      <td>60,347.00</td>\n",
              "      <td>2</td>\n",
              "      <td>52</td>\n",
              "      <td>28</td>\n",
              "      <td>76,764.02</td>\n",
              "    </tr>\n",
              "    <tr>\n",
              "      <th>3</th>\n",
              "      <td>4</td>\n",
              "      <td>Tier 3</td>\n",
              "      <td>Executive</td>\n",
              "      <td>Metro</td>\n",
              "      <td>49,010.00</td>\n",
              "      <td>2</td>\n",
              "      <td>81</td>\n",
              "      <td>33</td>\n",
              "      <td>82,092.39</td>\n",
              "    </tr>\n",
              "    <tr>\n",
              "      <th>4</th>\n",
              "      <td>5</td>\n",
              "      <td>Tier 3</td>\n",
              "      <td>Executive</td>\n",
              "      <td>Metro</td>\n",
              "      <td>57,879.00</td>\n",
              "      <td>4</td>\n",
              "      <td>74</td>\n",
              "      <td>32</td>\n",
              "      <td>73,878.10</td>\n",
              "    </tr>\n",
              "  </tbody>\n",
              "</table>\n",
              "</div>"
            ],
            "text/plain": [
              "   S.No. College       Role  City type Previous CTC  Previous job changes  \\\n",
              "0      1  Tier 1    Manager  Non-Metro    55,523.00                     3   \n",
              "1      2  Tier 2  Executive      Metro    57,081.00                     1   \n",
              "2      3  Tier 2  Executive      Metro    60,347.00                     2   \n",
              "3      4  Tier 3  Executive      Metro    49,010.00                     2   \n",
              "4      5  Tier 3  Executive      Metro    57,879.00                     4   \n",
              "\n",
              "   Graduation marks  Exp        CTC  \n",
              "0                66   19  71,406.58  \n",
              "1                84   18  68,005.87  \n",
              "2                52   28  76,764.02  \n",
              "3                81   33  82,092.39  \n",
              "4                74   32  73,878.10  "
            ]
          },
          "execution_count": 3,
          "metadata": {},
          "output_type": "execute_result"
        }
      ],
      "source": [
        "data.head()"
      ]
    },
    {
      "cell_type": "code",
      "execution_count": null,
      "id": "e41eb0bf",
      "metadata": {
        "id": "e41eb0bf",
        "outputId": "0c69db67-a9ac-466f-8f70-3ac7eb51561c"
      },
      "outputs": [
        {
          "data": {
            "text/html": [
              "<div>\n",
              "<style scoped>\n",
              "    .dataframe tbody tr th:only-of-type {\n",
              "        vertical-align: middle;\n",
              "    }\n",
              "\n",
              "    .dataframe tbody tr th {\n",
              "        vertical-align: top;\n",
              "    }\n",
              "\n",
              "    .dataframe thead th {\n",
              "        text-align: right;\n",
              "    }\n",
              "</style>\n",
              "<table border=\"1\" class=\"dataframe\">\n",
              "  <thead>\n",
              "    <tr style=\"text-align: right;\">\n",
              "      <th></th>\n",
              "      <th>College</th>\n",
              "      <th>Role</th>\n",
              "      <th>City type</th>\n",
              "      <th>Previous CTC</th>\n",
              "      <th>Previous job changes</th>\n",
              "      <th>Graduation marks</th>\n",
              "      <th>Exp</th>\n",
              "      <th>CTC</th>\n",
              "    </tr>\n",
              "  </thead>\n",
              "  <tbody>\n",
              "    <tr>\n",
              "      <th>0</th>\n",
              "      <td>Tier 1</td>\n",
              "      <td>Manager</td>\n",
              "      <td>Non-Metro</td>\n",
              "      <td>55523</td>\n",
              "      <td>3</td>\n",
              "      <td>66</td>\n",
              "      <td>19</td>\n",
              "      <td>71406.57653</td>\n",
              "    </tr>\n",
              "    <tr>\n",
              "      <th>1</th>\n",
              "      <td>Tier 2</td>\n",
              "      <td>Executive</td>\n",
              "      <td>Metro</td>\n",
              "      <td>57081</td>\n",
              "      <td>1</td>\n",
              "      <td>84</td>\n",
              "      <td>18</td>\n",
              "      <td>68005.87063</td>\n",
              "    </tr>\n",
              "    <tr>\n",
              "      <th>2</th>\n",
              "      <td>Tier 2</td>\n",
              "      <td>Executive</td>\n",
              "      <td>Metro</td>\n",
              "      <td>60347</td>\n",
              "      <td>2</td>\n",
              "      <td>52</td>\n",
              "      <td>28</td>\n",
              "      <td>76764.02028</td>\n",
              "    </tr>\n",
              "    <tr>\n",
              "      <th>3</th>\n",
              "      <td>Tier 3</td>\n",
              "      <td>Executive</td>\n",
              "      <td>Metro</td>\n",
              "      <td>49010</td>\n",
              "      <td>2</td>\n",
              "      <td>81</td>\n",
              "      <td>33</td>\n",
              "      <td>82092.38688</td>\n",
              "    </tr>\n",
              "    <tr>\n",
              "      <th>4</th>\n",
              "      <td>Tier 3</td>\n",
              "      <td>Executive</td>\n",
              "      <td>Metro</td>\n",
              "      <td>57879</td>\n",
              "      <td>4</td>\n",
              "      <td>74</td>\n",
              "      <td>32</td>\n",
              "      <td>73878.09773</td>\n",
              "    </tr>\n",
              "  </tbody>\n",
              "</table>\n",
              "</div>"
            ],
            "text/plain": [
              "  College       Role  City type  Previous CTC  Previous job changes  \\\n",
              "0  Tier 1    Manager  Non-Metro         55523                     3   \n",
              "1  Tier 2  Executive      Metro         57081                     1   \n",
              "2  Tier 2  Executive      Metro         60347                     2   \n",
              "3  Tier 3  Executive      Metro         49010                     2   \n",
              "4  Tier 3  Executive      Metro         57879                     4   \n",
              "\n",
              "   Graduation marks  Exp          CTC  \n",
              "0                66   19  71406.57653  \n",
              "1                84   18  68005.87063  \n",
              "2                52   28  76764.02028  \n",
              "3                81   33  82092.38688  \n",
              "4                74   32  73878.09773  "
            ]
          },
          "execution_count": 4,
          "metadata": {},
          "output_type": "execute_result"
        }
      ],
      "source": [
        "test.head()"
      ]
    },
    {
      "cell_type": "code",
      "execution_count": null,
      "id": "f1599146",
      "metadata": {
        "id": "f1599146"
      },
      "outputs": [],
      "source": [
        "del data['S.No.']"
      ]
    },
    {
      "cell_type": "code",
      "execution_count": null,
      "id": "3f0a7ca6",
      "metadata": {
        "id": "3f0a7ca6",
        "outputId": "1e6ed864-9d28-47ea-a71e-2986662173c4"
      },
      "outputs": [
        {
          "name": "stdout",
          "output_type": "stream",
          "text": [
            "<class 'pandas.core.frame.DataFrame'>\n",
            "RangeIndex: 1338 entries, 0 to 1337\n",
            "Data columns (total 8 columns):\n",
            " #   Column                Non-Null Count  Dtype \n",
            "---  ------                --------------  ----- \n",
            " 0   College               1338 non-null   object\n",
            " 1   Role                  1338 non-null   object\n",
            " 2   City type             1338 non-null   object\n",
            " 3   Previous CTC          1338 non-null   object\n",
            " 4   Previous job changes  1338 non-null   int64 \n",
            " 5   Graduation marks      1338 non-null   int64 \n",
            " 6   Exp                   1338 non-null   int64 \n",
            " 7   CTC                   1338 non-null   object\n",
            "dtypes: int64(3), object(5)\n",
            "memory usage: 83.8+ KB\n"
          ]
        }
      ],
      "source": [
        "data.info()"
      ]
    },
    {
      "cell_type": "code",
      "execution_count": null,
      "id": "db00fc7d",
      "metadata": {
        "id": "db00fc7d",
        "outputId": "a345346a-3475-4994-d2cd-299940436560"
      },
      "outputs": [
        {
          "name": "stdout",
          "output_type": "stream",
          "text": [
            "<class 'pandas.core.frame.DataFrame'>\n",
            "RangeIndex: 1338 entries, 0 to 1337\n",
            "Data columns (total 8 columns):\n",
            " #   Column                Non-Null Count  Dtype  \n",
            "---  ------                --------------  -----  \n",
            " 0   College               1338 non-null   object \n",
            " 1   Role                  1338 non-null   object \n",
            " 2   City type             1338 non-null   object \n",
            " 3   Previous CTC          1338 non-null   int64  \n",
            " 4   Previous job changes  1338 non-null   int64  \n",
            " 5   Graduation marks      1338 non-null   int64  \n",
            " 6   Exp                   1338 non-null   int64  \n",
            " 7   CTC                   1338 non-null   float64\n",
            "dtypes: float64(1), int64(4), object(3)\n",
            "memory usage: 83.8+ KB\n"
          ]
        }
      ],
      "source": [
        "test.info()"
      ]
    },
    {
      "cell_type": "code",
      "execution_count": null,
      "id": "53a89c2d",
      "metadata": {
        "id": "53a89c2d"
      },
      "outputs": [],
      "source": [
        "data=data.replace({',': ''}, regex=True)\n",
        "\n",
        "test=test.replace({',': ''}, regex=True)"
      ]
    },
    {
      "cell_type": "markdown",
      "id": "5b561d45",
      "metadata": {
        "id": "5b561d45"
      },
      "source": [
        "# Converting Objects to int and float ."
      ]
    },
    {
      "cell_type": "code",
      "execution_count": null,
      "id": "feb4a0de",
      "metadata": {
        "id": "feb4a0de"
      },
      "outputs": [],
      "source": [
        "data['CTC'] = data['CTC'].astype(np.float64)\n",
        "\n",
        "data['Previous CTC']=data['Previous CTC'].astype(np.float64)\n",
        "\n",
        "test['CTC']=test['CTC'].astype(np.float64)\n",
        "\n",
        "test['Previous CTC']=test['Previous CTC'].astype(np.float64)"
      ]
    },
    {
      "cell_type": "code",
      "execution_count": null,
      "id": "a0269702",
      "metadata": {
        "id": "a0269702",
        "outputId": "e8299b59-b70e-423b-b2de-b45aab0088a2"
      },
      "outputs": [
        {
          "name": "stdout",
          "output_type": "stream",
          "text": [
            "<class 'pandas.core.frame.DataFrame'>\n",
            "RangeIndex: 1338 entries, 0 to 1337\n",
            "Data columns (total 8 columns):\n",
            " #   Column                Non-Null Count  Dtype  \n",
            "---  ------                --------------  -----  \n",
            " 0   College               1338 non-null   object \n",
            " 1   Role                  1338 non-null   object \n",
            " 2   City type             1338 non-null   object \n",
            " 3   Previous CTC          1338 non-null   float64\n",
            " 4   Previous job changes  1338 non-null   int64  \n",
            " 5   Graduation marks      1338 non-null   int64  \n",
            " 6   Exp                   1338 non-null   int64  \n",
            " 7   CTC                   1338 non-null   float64\n",
            "dtypes: float64(2), int64(3), object(3)\n",
            "memory usage: 83.8+ KB\n"
          ]
        }
      ],
      "source": [
        "data.info()"
      ]
    },
    {
      "cell_type": "code",
      "execution_count": null,
      "id": "dd2d4b11",
      "metadata": {
        "id": "dd2d4b11",
        "outputId": "2533eff8-dbfb-4fc6-c087-acc642d7b4d6"
      },
      "outputs": [
        {
          "name": "stdout",
          "output_type": "stream",
          "text": [
            "<class 'pandas.core.frame.DataFrame'>\n",
            "RangeIndex: 1338 entries, 0 to 1337\n",
            "Data columns (total 8 columns):\n",
            " #   Column                Non-Null Count  Dtype  \n",
            "---  ------                --------------  -----  \n",
            " 0   College               1338 non-null   object \n",
            " 1   Role                  1338 non-null   object \n",
            " 2   City type             1338 non-null   object \n",
            " 3   Previous CTC          1338 non-null   float64\n",
            " 4   Previous job changes  1338 non-null   int64  \n",
            " 5   Graduation marks      1338 non-null   int64  \n",
            " 6   Exp                   1338 non-null   int64  \n",
            " 7   CTC                   1338 non-null   float64\n",
            "dtypes: float64(2), int64(3), object(3)\n",
            "memory usage: 83.8+ KB\n"
          ]
        }
      ],
      "source": [
        "test.info()"
      ]
    },
    {
      "cell_type": "markdown",
      "id": "9a0d93db",
      "metadata": {
        "id": "9a0d93db"
      },
      "source": [
        "# Label Encoding."
      ]
    },
    {
      "cell_type": "code",
      "execution_count": null,
      "id": "ec5d0daf",
      "metadata": {
        "id": "ec5d0daf"
      },
      "outputs": [],
      "source": [
        "col = ['College','Role','City type']\n",
        "\n",
        "for c in col:\n",
        "    le = LabelEncoder()\n",
        "    data[c] = le.fit_transform(data[c])\n",
        "    test[c] = le.fit_transform(test[c])"
      ]
    },
    {
      "cell_type": "code",
      "execution_count": null,
      "id": "61092f2f",
      "metadata": {
        "id": "61092f2f",
        "outputId": "51eb004f-5b64-4062-bce9-240845725223"
      },
      "outputs": [
        {
          "data": {
            "text/html": [
              "<div>\n",
              "<style scoped>\n",
              "    .dataframe tbody tr th:only-of-type {\n",
              "        vertical-align: middle;\n",
              "    }\n",
              "\n",
              "    .dataframe tbody tr th {\n",
              "        vertical-align: top;\n",
              "    }\n",
              "\n",
              "    .dataframe thead th {\n",
              "        text-align: right;\n",
              "    }\n",
              "</style>\n",
              "<table border=\"1\" class=\"dataframe\">\n",
              "  <thead>\n",
              "    <tr style=\"text-align: right;\">\n",
              "      <th></th>\n",
              "      <th>College</th>\n",
              "      <th>Role</th>\n",
              "      <th>City type</th>\n",
              "      <th>Previous CTC</th>\n",
              "      <th>Previous job changes</th>\n",
              "      <th>Graduation marks</th>\n",
              "      <th>Exp</th>\n",
              "      <th>CTC</th>\n",
              "    </tr>\n",
              "  </thead>\n",
              "  <tbody>\n",
              "    <tr>\n",
              "      <th>count</th>\n",
              "      <td>1338.000000</td>\n",
              "      <td>1338.000000</td>\n",
              "      <td>1338.000000</td>\n",
              "      <td>1338.000000</td>\n",
              "      <td>1338.000000</td>\n",
              "      <td>1338.000000</td>\n",
              "      <td>1338.000000</td>\n",
              "      <td>1338.000000</td>\n",
              "    </tr>\n",
              "    <tr>\n",
              "      <th>mean</th>\n",
              "      <td>0.757848</td>\n",
              "      <td>0.204783</td>\n",
              "      <td>0.494768</td>\n",
              "      <td>55581.762332</td>\n",
              "      <td>2.525411</td>\n",
              "      <td>59.890882</td>\n",
              "      <td>39.207025</td>\n",
              "      <td>75459.339036</td>\n",
              "    </tr>\n",
              "    <tr>\n",
              "      <th>std</th>\n",
              "      <td>0.818422</td>\n",
              "      <td>0.403694</td>\n",
              "      <td>0.500160</td>\n",
              "      <td>6685.600553</td>\n",
              "      <td>1.123502</td>\n",
              "      <td>14.894696</td>\n",
              "      <td>14.049960</td>\n",
              "      <td>12551.280147</td>\n",
              "    </tr>\n",
              "    <tr>\n",
              "      <th>min</th>\n",
              "      <td>0.000000</td>\n",
              "      <td>0.000000</td>\n",
              "      <td>0.000000</td>\n",
              "      <td>36990.000000</td>\n",
              "      <td>1.000000</td>\n",
              "      <td>35.000000</td>\n",
              "      <td>18.000000</td>\n",
              "      <td>53020.320000</td>\n",
              "    </tr>\n",
              "    <tr>\n",
              "      <th>25%</th>\n",
              "      <td>0.000000</td>\n",
              "      <td>0.000000</td>\n",
              "      <td>0.000000</td>\n",
              "      <td>50547.000000</td>\n",
              "      <td>2.000000</td>\n",
              "      <td>47.000000</td>\n",
              "      <td>27.000000</td>\n",
              "      <td>66905.067500</td>\n",
              "    </tr>\n",
              "    <tr>\n",
              "      <th>50%</th>\n",
              "      <td>1.000000</td>\n",
              "      <td>0.000000</td>\n",
              "      <td>0.000000</td>\n",
              "      <td>55293.500000</td>\n",
              "      <td>3.000000</td>\n",
              "      <td>60.000000</td>\n",
              "      <td>39.000000</td>\n",
              "      <td>73112.640000</td>\n",
              "    </tr>\n",
              "    <tr>\n",
              "      <th>75%</th>\n",
              "      <td>1.000000</td>\n",
              "      <td>0.000000</td>\n",
              "      <td>1.000000</td>\n",
              "      <td>60150.500000</td>\n",
              "      <td>4.000000</td>\n",
              "      <td>73.000000</td>\n",
              "      <td>51.000000</td>\n",
              "      <td>80747.175000</td>\n",
              "    </tr>\n",
              "    <tr>\n",
              "      <th>max</th>\n",
              "      <td>2.000000</td>\n",
              "      <td>1.000000</td>\n",
              "      <td>1.000000</td>\n",
              "      <td>77911.000000</td>\n",
              "      <td>4.000000</td>\n",
              "      <td>85.000000</td>\n",
              "      <td>64.000000</td>\n",
              "      <td>123416.990000</td>\n",
              "    </tr>\n",
              "  </tbody>\n",
              "</table>\n",
              "</div>"
            ],
            "text/plain": [
              "           College         Role    City type  Previous CTC  \\\n",
              "count  1338.000000  1338.000000  1338.000000   1338.000000   \n",
              "mean      0.757848     0.204783     0.494768  55581.762332   \n",
              "std       0.818422     0.403694     0.500160   6685.600553   \n",
              "min       0.000000     0.000000     0.000000  36990.000000   \n",
              "25%       0.000000     0.000000     0.000000  50547.000000   \n",
              "50%       1.000000     0.000000     0.000000  55293.500000   \n",
              "75%       1.000000     0.000000     1.000000  60150.500000   \n",
              "max       2.000000     1.000000     1.000000  77911.000000   \n",
              "\n",
              "       Previous job changes  Graduation marks          Exp            CTC  \n",
              "count           1338.000000       1338.000000  1338.000000    1338.000000  \n",
              "mean               2.525411         59.890882    39.207025   75459.339036  \n",
              "std                1.123502         14.894696    14.049960   12551.280147  \n",
              "min                1.000000         35.000000    18.000000   53020.320000  \n",
              "25%                2.000000         47.000000    27.000000   66905.067500  \n",
              "50%                3.000000         60.000000    39.000000   73112.640000  \n",
              "75%                4.000000         73.000000    51.000000   80747.175000  \n",
              "max                4.000000         85.000000    64.000000  123416.990000  "
            ]
          },
          "execution_count": 13,
          "metadata": {},
          "output_type": "execute_result"
        }
      ],
      "source": [
        "data.describe()"
      ]
    },
    {
      "cell_type": "code",
      "execution_count": null,
      "id": "4f8bc6a8",
      "metadata": {
        "id": "4f8bc6a8",
        "outputId": "0f745523-c6cc-4cd6-c17c-be0ea2f7e765"
      },
      "outputs": [
        {
          "data": {
            "text/html": [
              "<div>\n",
              "<style scoped>\n",
              "    .dataframe tbody tr th:only-of-type {\n",
              "        vertical-align: middle;\n",
              "    }\n",
              "\n",
              "    .dataframe tbody tr th {\n",
              "        vertical-align: top;\n",
              "    }\n",
              "\n",
              "    .dataframe thead th {\n",
              "        text-align: right;\n",
              "    }\n",
              "</style>\n",
              "<table border=\"1\" class=\"dataframe\">\n",
              "  <thead>\n",
              "    <tr style=\"text-align: right;\">\n",
              "      <th></th>\n",
              "      <th>College</th>\n",
              "      <th>Role</th>\n",
              "      <th>City type</th>\n",
              "      <th>Previous CTC</th>\n",
              "      <th>Previous job changes</th>\n",
              "      <th>Graduation marks</th>\n",
              "      <th>Exp</th>\n",
              "      <th>CTC</th>\n",
              "    </tr>\n",
              "  </thead>\n",
              "  <tbody>\n",
              "    <tr>\n",
              "      <th>College</th>\n",
              "      <td>1.000000</td>\n",
              "      <td>-0.001472</td>\n",
              "      <td>0.002384</td>\n",
              "      <td>-0.016259</td>\n",
              "      <td>-0.050243</td>\n",
              "      <td>-0.024994</td>\n",
              "      <td>-0.006760</td>\n",
              "      <td>-0.179152</td>\n",
              "    </tr>\n",
              "    <tr>\n",
              "      <th>Role</th>\n",
              "      <td>-0.001472</td>\n",
              "      <td>1.000000</td>\n",
              "      <td>-0.076185</td>\n",
              "      <td>0.021208</td>\n",
              "      <td>-0.013131</td>\n",
              "      <td>0.014541</td>\n",
              "      <td>-0.025019</td>\n",
              "      <td>0.625435</td>\n",
              "    </tr>\n",
              "    <tr>\n",
              "      <th>City type</th>\n",
              "      <td>0.002384</td>\n",
              "      <td>-0.076185</td>\n",
              "      <td>1.000000</td>\n",
              "      <td>-0.036956</td>\n",
              "      <td>0.001568</td>\n",
              "      <td>-0.018550</td>\n",
              "      <td>0.020856</td>\n",
              "      <td>-0.211258</td>\n",
              "    </tr>\n",
              "    <tr>\n",
              "      <th>Previous CTC</th>\n",
              "      <td>-0.016259</td>\n",
              "      <td>0.021208</td>\n",
              "      <td>-0.036956</td>\n",
              "      <td>1.000000</td>\n",
              "      <td>0.008282</td>\n",
              "      <td>-0.037170</td>\n",
              "      <td>0.117035</td>\n",
              "      <td>0.270260</td>\n",
              "    </tr>\n",
              "    <tr>\n",
              "      <th>Previous job changes</th>\n",
              "      <td>-0.050243</td>\n",
              "      <td>-0.013131</td>\n",
              "      <td>0.001568</td>\n",
              "      <td>0.008282</td>\n",
              "      <td>1.000000</td>\n",
              "      <td>0.001507</td>\n",
              "      <td>0.034137</td>\n",
              "      <td>0.007518</td>\n",
              "    </tr>\n",
              "    <tr>\n",
              "      <th>Graduation marks</th>\n",
              "      <td>-0.024994</td>\n",
              "      <td>0.014541</td>\n",
              "      <td>-0.018550</td>\n",
              "      <td>-0.037170</td>\n",
              "      <td>0.001507</td>\n",
              "      <td>1.000000</td>\n",
              "      <td>-0.065412</td>\n",
              "      <td>-0.017557</td>\n",
              "    </tr>\n",
              "    <tr>\n",
              "      <th>Exp</th>\n",
              "      <td>-0.006760</td>\n",
              "      <td>-0.025019</td>\n",
              "      <td>0.020856</td>\n",
              "      <td>0.117035</td>\n",
              "      <td>0.034137</td>\n",
              "      <td>-0.065412</td>\n",
              "      <td>1.000000</td>\n",
              "      <td>0.301569</td>\n",
              "    </tr>\n",
              "    <tr>\n",
              "      <th>CTC</th>\n",
              "      <td>-0.179152</td>\n",
              "      <td>0.625435</td>\n",
              "      <td>-0.211258</td>\n",
              "      <td>0.270260</td>\n",
              "      <td>0.007518</td>\n",
              "      <td>-0.017557</td>\n",
              "      <td>0.301569</td>\n",
              "      <td>1.000000</td>\n",
              "    </tr>\n",
              "  </tbody>\n",
              "</table>\n",
              "</div>"
            ],
            "text/plain": [
              "                       College      Role  City type  Previous CTC  \\\n",
              "College               1.000000 -0.001472   0.002384     -0.016259   \n",
              "Role                 -0.001472  1.000000  -0.076185      0.021208   \n",
              "City type             0.002384 -0.076185   1.000000     -0.036956   \n",
              "Previous CTC         -0.016259  0.021208  -0.036956      1.000000   \n",
              "Previous job changes -0.050243 -0.013131   0.001568      0.008282   \n",
              "Graduation marks     -0.024994  0.014541  -0.018550     -0.037170   \n",
              "Exp                  -0.006760 -0.025019   0.020856      0.117035   \n",
              "CTC                  -0.179152  0.625435  -0.211258      0.270260   \n",
              "\n",
              "                      Previous job changes  Graduation marks       Exp  \\\n",
              "College                          -0.050243         -0.024994 -0.006760   \n",
              "Role                             -0.013131          0.014541 -0.025019   \n",
              "City type                         0.001568         -0.018550  0.020856   \n",
              "Previous CTC                      0.008282         -0.037170  0.117035   \n",
              "Previous job changes              1.000000          0.001507  0.034137   \n",
              "Graduation marks                  0.001507          1.000000 -0.065412   \n",
              "Exp                               0.034137         -0.065412  1.000000   \n",
              "CTC                               0.007518         -0.017557  0.301569   \n",
              "\n",
              "                           CTC  \n",
              "College              -0.179152  \n",
              "Role                  0.625435  \n",
              "City type            -0.211258  \n",
              "Previous CTC          0.270260  \n",
              "Previous job changes  0.007518  \n",
              "Graduation marks     -0.017557  \n",
              "Exp                   0.301569  \n",
              "CTC                   1.000000  "
            ]
          },
          "execution_count": 14,
          "metadata": {},
          "output_type": "execute_result"
        }
      ],
      "source": [
        "data.corr()"
      ]
    },
    {
      "cell_type": "code",
      "execution_count": null,
      "id": "feee6bfa",
      "metadata": {
        "id": "feee6bfa",
        "outputId": "acd2967f-1edb-4b74-a051-a2883124434f"
      },
      "outputs": [
        {
          "data": {
            "text/html": [
              "<div>\n",
              "<style scoped>\n",
              "    .dataframe tbody tr th:only-of-type {\n",
              "        vertical-align: middle;\n",
              "    }\n",
              "\n",
              "    .dataframe tbody tr th {\n",
              "        vertical-align: top;\n",
              "    }\n",
              "\n",
              "    .dataframe thead th {\n",
              "        text-align: right;\n",
              "    }\n",
              "</style>\n",
              "<table border=\"1\" class=\"dataframe\">\n",
              "  <thead>\n",
              "    <tr style=\"text-align: right;\">\n",
              "      <th></th>\n",
              "      <th>College</th>\n",
              "      <th>Role</th>\n",
              "      <th>City type</th>\n",
              "      <th>Previous CTC</th>\n",
              "      <th>Previous job changes</th>\n",
              "      <th>Graduation marks</th>\n",
              "      <th>Exp</th>\n",
              "      <th>CTC</th>\n",
              "    </tr>\n",
              "  </thead>\n",
              "  <tbody>\n",
              "    <tr>\n",
              "      <th>0</th>\n",
              "      <td>0</td>\n",
              "      <td>1</td>\n",
              "      <td>1</td>\n",
              "      <td>55523.0</td>\n",
              "      <td>3</td>\n",
              "      <td>66</td>\n",
              "      <td>19</td>\n",
              "      <td>71406.58</td>\n",
              "    </tr>\n",
              "    <tr>\n",
              "      <th>1</th>\n",
              "      <td>1</td>\n",
              "      <td>0</td>\n",
              "      <td>0</td>\n",
              "      <td>57081.0</td>\n",
              "      <td>1</td>\n",
              "      <td>84</td>\n",
              "      <td>18</td>\n",
              "      <td>68005.87</td>\n",
              "    </tr>\n",
              "    <tr>\n",
              "      <th>2</th>\n",
              "      <td>1</td>\n",
              "      <td>0</td>\n",
              "      <td>0</td>\n",
              "      <td>60347.0</td>\n",
              "      <td>2</td>\n",
              "      <td>52</td>\n",
              "      <td>28</td>\n",
              "      <td>76764.02</td>\n",
              "    </tr>\n",
              "    <tr>\n",
              "      <th>3</th>\n",
              "      <td>2</td>\n",
              "      <td>0</td>\n",
              "      <td>0</td>\n",
              "      <td>49010.0</td>\n",
              "      <td>2</td>\n",
              "      <td>81</td>\n",
              "      <td>33</td>\n",
              "      <td>82092.39</td>\n",
              "    </tr>\n",
              "    <tr>\n",
              "      <th>4</th>\n",
              "      <td>2</td>\n",
              "      <td>0</td>\n",
              "      <td>0</td>\n",
              "      <td>57879.0</td>\n",
              "      <td>4</td>\n",
              "      <td>74</td>\n",
              "      <td>32</td>\n",
              "      <td>73878.10</td>\n",
              "    </tr>\n",
              "  </tbody>\n",
              "</table>\n",
              "</div>"
            ],
            "text/plain": [
              "   College  Role  City type  Previous CTC  Previous job changes  \\\n",
              "0        0     1          1       55523.0                     3   \n",
              "1        1     0          0       57081.0                     1   \n",
              "2        1     0          0       60347.0                     2   \n",
              "3        2     0          0       49010.0                     2   \n",
              "4        2     0          0       57879.0                     4   \n",
              "\n",
              "   Graduation marks  Exp       CTC  \n",
              "0                66   19  71406.58  \n",
              "1                84   18  68005.87  \n",
              "2                52   28  76764.02  \n",
              "3                81   33  82092.39  \n",
              "4                74   32  73878.10  "
            ]
          },
          "execution_count": 15,
          "metadata": {},
          "output_type": "execute_result"
        }
      ],
      "source": [
        "data.head()"
      ]
    },
    {
      "cell_type": "markdown",
      "id": "d5a3692f",
      "metadata": {
        "id": "d5a3692f"
      },
      "source": [
        "# Splitting Dataset into Training and Testing Set."
      ]
    },
    {
      "cell_type": "code",
      "execution_count": null,
      "id": "0297b026",
      "metadata": {
        "id": "0297b026"
      },
      "outputs": [],
      "source": [
        "o_train = data['CTC']\n",
        "del data['CTC']\n",
        "i_train = data\n",
        "\n",
        "o_test = test['CTC']\n",
        "del test['CTC']\n",
        "i_test = test"
      ]
    },
    {
      "cell_type": "markdown",
      "id": "b17e1384",
      "metadata": {
        "id": "b17e1384"
      },
      "source": [
        "# Model Building and Training."
      ]
    },
    {
      "cell_type": "code",
      "execution_count": null,
      "id": "3b686dcb",
      "metadata": {
        "id": "3b686dcb"
      },
      "outputs": [],
      "source": [
        "model = xgb.XGBRegressor()"
      ]
    },
    {
      "cell_type": "code",
      "execution_count": null,
      "id": "0ef9eb5c",
      "metadata": {
        "id": "0ef9eb5c",
        "outputId": "656f9d6c-6212-4af0-8acd-9b7184a6fd03"
      },
      "outputs": [
        {
          "data": {
            "text/plain": [
              "XGBRegressor(base_score=0.5, booster='gbtree', callbacks=None,\n",
              "             colsample_bylevel=1, colsample_bynode=1, colsample_bytree=1,\n",
              "             early_stopping_rounds=None, enable_categorical=False,\n",
              "             eval_metric=None, gamma=0, gpu_id=-1, grow_policy='depthwise',\n",
              "             importance_type=None, interaction_constraints='',\n",
              "             learning_rate=0.300000012, max_bin=256, max_cat_to_onehot=4,\n",
              "             max_delta_step=0, max_depth=6, max_leaves=0, min_child_weight=1,\n",
              "             missing=nan, monotone_constraints='()', n_estimators=100, n_jobs=0,\n",
              "             num_parallel_tree=1, predictor='auto', random_state=0, reg_alpha=0,\n",
              "             reg_lambda=1, ...)"
            ]
          },
          "execution_count": 18,
          "metadata": {},
          "output_type": "execute_result"
        }
      ],
      "source": [
        "model.fit(i_train,o_train)"
      ]
    },
    {
      "cell_type": "markdown",
      "id": "056629f7",
      "metadata": {
        "id": "056629f7"
      },
      "source": [
        "# Testing the Model."
      ]
    },
    {
      "cell_type": "code",
      "execution_count": null,
      "id": "90890a48",
      "metadata": {
        "id": "90890a48"
      },
      "outputs": [],
      "source": [
        "pred = model.predict(i_test)"
      ]
    },
    {
      "cell_type": "markdown",
      "id": "d6c36787",
      "metadata": {
        "id": "d6c36787"
      },
      "source": [
        "# Measuring Accuracy of the Model."
      ]
    },
    {
      "cell_type": "code",
      "execution_count": null,
      "id": "61650626",
      "metadata": {
        "id": "61650626",
        "outputId": "2c15ac3e-7402-479c-f610-5665b3f76221"
      },
      "outputs": [
        {
          "data": {
            "text/plain": [
              "0.9833939587119831"
            ]
          },
          "execution_count": 20,
          "metadata": {},
          "output_type": "execute_result"
        }
      ],
      "source": [
        "metrics.r2_score(o_test, pred)"
      ]
    }
  ],
  "metadata": {
    "kernelspec": {
      "display_name": "Python 3",
      "language": "python",
      "name": "python3"
    },
    "language_info": {
      "codemirror_mode": {
        "name": "ipython",
        "version": 3
      },
      "file_extension": ".py",
      "mimetype": "text/x-python",
      "name": "python",
      "nbconvert_exporter": "python",
      "pygments_lexer": "ipython3",
      "version": "3.8.8"
    },
    "colab": {
      "provenance": [],
      "collapsed_sections": [],
      "include_colab_link": true
    }
  },
  "nbformat": 4,
  "nbformat_minor": 5
}